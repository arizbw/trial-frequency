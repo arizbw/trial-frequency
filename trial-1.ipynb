{
 "cells": [
  {
   "cell_type": "markdown",
   "metadata": {},
   "source": [
    "## Some implementations of Frequency counting in a list\n",
    "1. Implementation (Using 2 loop)\n",
    "2. Implementation (Using 1 loop and dictionary)\n",
    "3. Implementation (Using 1 loop and tree)"
   ]
  },
  {
   "cell_type": "code",
   "execution_count": 1,
   "metadata": {},
   "outputs": [],
   "source": [
    "#import library\n",
    "import random\n",
    "import time"
   ]
  },
  {
   "cell_type": "code",
   "execution_count": 2,
   "metadata": {},
   "outputs": [],
   "source": [
    "#function to generate number\n",
    "def Rand(start, end, num): \n",
    "    res = [] \n",
    "    for j in range(num): \n",
    "        res.append(random.randint(start, end)) \n",
    "    return res "
   ]
  },
  {
   "cell_type": "code",
   "execution_count": 3,
   "metadata": {},
   "outputs": [],
   "source": [
    "#settings to generate amount of number\n",
    "num = 100000\n",
    "#amount of number that will be generated\n",
    "start = 10\n",
    "#start number\n",
    "end = 600\n",
    "#end number\n",
    "angka = Rand(start, end, num)"
   ]
  },
  {
   "cell_type": "markdown",
   "metadata": {},
   "source": [
    "## 1. Implementation (Using 2 loop)\n",
    "\n",
    "In this implementation there are 2 loops, the first loop is used for visit all the array elements, the second loop is used to counting the frequency for each member of array. The complexity near O(N)^2. "
   ]
  },
  {
   "cell_type": "code",
   "execution_count": 4,
   "metadata": {},
   "outputs": [],
   "source": [
    "import numpy as np\n",
    "# source : https://www.geeksforgeeks.org/counting-frequencies-of-array-elements/\n",
    "# Python 3 program to count frequencies \n",
    "# of array items \n",
    "\n",
    "def countFreq(arr, n): \n",
    "    u =0\n",
    "    a = []\n",
    "    # Mark all array elements as not visited \n",
    "    visited = [False for i in range(n)] \n",
    "  \n",
    "    # Traverse through array elements  \n",
    "    # and count frequencies \n",
    "    for i in range(n): \n",
    "          \n",
    "        # Skip this element if already  \n",
    "        # processed \n",
    "        if (visited[i] == True): \n",
    "            continue\n",
    "  \n",
    "        # Count frequency \n",
    "        count = 1\n",
    "        for j in range(i + 1, n, 1): \n",
    "            if (arr[i] == arr[j]): \n",
    "                visited[j] = True\n",
    "                count += 1\n",
    "          \n",
    "        #print(arr[i], count) \n",
    "        a.append([arr[i],count])\n",
    "        #arr_counter[i][0] = arr[i] \n",
    "        #arr_counter[i][1] = count\n",
    "    a = np.array(a)\n",
    "    return a"
   ]
  },
  {
   "cell_type": "code",
   "execution_count": 5,
   "metadata": {},
   "outputs": [
    {
     "name": "stdout",
     "output_type": "stream",
     "text": [
      "[[374 212]\n",
      " [ 54 205]\n",
      " [406 203]\n",
      " [193 202]\n",
      " [284 201]\n",
      " [355 201]\n",
      " [287 200]\n",
      " [ 61 199]\n",
      " [413 199]\n",
      " [565 199]]\n",
      "--- 3.450467824935913 seconds ---\n"
     ]
    }
   ],
   "source": [
    "start_time = time.time()\n",
    "countMe = countFreq(angka, len(angka) ) \n",
    "countMe_sort = countMe[countMe[:,1].argsort()[::-1]]\n",
    "print(countMe_sort[:10])\n",
    "print(\"--- %s seconds ---\" % (time.time() - start_time))"
   ]
  },
  {
   "cell_type": "markdown",
   "metadata": {},
   "source": [
    "## 2. Implementation (Using 1 loop and dictionary)\n",
    "In this implementation there is one loop and the dictionary labelled with frekuensi, the first if is used to get count/increment the number that has been visited, the else is used to enter the number which has not been registered in dictionary.The complexity is near O(N)"
   ]
  },
  {
   "cell_type": "code",
   "execution_count": 6,
   "metadata": {},
   "outputs": [
    {
     "name": "stdout",
     "output_type": "stream",
     "text": [
      "374 212\n",
      "54 205\n",
      "406 203\n",
      "193 202\n",
      "355 201\n",
      "284 201\n",
      "287 200\n",
      "413 199\n",
      "565 199\n",
      "384 199\n",
      "--- 0.014985084533691406 seconds ---\n"
     ]
    }
   ],
   "source": [
    "#https://www.geeksforgeeks.org/counting-the-frequencies-in-a-list-using-dictionary-in-python/\n",
    "start_time = time.time()\n",
    "import numpy\n",
    "\n",
    "def countFreq2(number): \n",
    "    frekuensi = {}\n",
    "    i = 0\n",
    "    for n in number:\n",
    "        #print(n)\n",
    "        if n in frekuensi:\n",
    "            frekuensi[n] += 1\n",
    "        else:\n",
    "            frekuensi[n] = 1\n",
    "        i+=1\n",
    "    return frekuensi\n",
    "\n",
    "result = countFreq2(angka)\n",
    "sort_orders = sorted(result.items(), key=lambda x: x[1], reverse=True)[:10]\n",
    "for y in sort_orders:\n",
    "    print(y[0], y[1])\n",
    "\n",
    "print(\"--- %s seconds ---\" % (time.time() - start_time))"
   ]
  },
  {
   "cell_type": "markdown",
   "metadata": {},
   "source": [
    "## 3. Implementation (Using 1 loop and tree)\n",
    "In this implementation there is one loop and the bst data structure. The loop is used to insert the value and key into the node. It is implemented in recursive way. The complexity is near O(N). The complexity is near O(N) + O(h) , O(N) refer to the array element + O(h) refer to the height of the tree"
   ]
  },
  {
   "cell_type": "code",
   "execution_count": 7,
   "metadata": {},
   "outputs": [],
   "source": [
    "# source : https://www.geeksforgeeks.org/how-to-handle-duplicates-in-binary-search-tree/\n",
    "# Python3 program to implement basic operations  \n",
    "# (search, insert and delete) on a BST that handles  \n",
    "# duplicates by storing count with every node  \n",
    "la=[]\n",
    "# A utility function to create a new BST node  \n",
    "class newNode:  \n",
    "  \n",
    "    # Constructor to create a new node  \n",
    "    def __init__(self, data):  \n",
    "        self.key = data \n",
    "        self.count = 1\n",
    "        self.left = None\n",
    "        self.right = None\n",
    "  \n",
    "# A utility function to do inorder  \n",
    "# traversal of BST  \n",
    "def inorder(root): \n",
    "    if root != None: \n",
    "        inorder(root.left) \n",
    "        #print(root.key,\"(\", root.count,\")\",  end = \" \")\n",
    "        la.append([root.key,root.count])\n",
    "        inorder(root.right) \n",
    "  \n",
    "# A utility function to insert a new node  \n",
    "# with given key in BST  \n",
    "def insert(node, key): \n",
    "      \n",
    "    # If the tree is empty, return a new node  \n",
    "    if node == None: \n",
    "        k = newNode(key) \n",
    "        return k \n",
    "  \n",
    "    # If key already exists in BST, increment \n",
    "    # count and return  \n",
    "    if key == node.key: \n",
    "        (node.count) += 1\n",
    "        return node \n",
    "  \n",
    "    # Otherwise, recur down the tree  \n",
    "    if key < node.key:  \n",
    "        node.left = insert(node.left, key)  \n",
    "    else: \n",
    "        node.right = insert(node.right, key) \n",
    "  \n",
    "    # return the (unchanged) node pointer  \n",
    "    return node \n",
    "  \n",
    "    return root \n",
    "  "
   ]
  },
  {
   "cell_type": "code",
   "execution_count": 8,
   "metadata": {},
   "outputs": [
    {
     "name": "stdout",
     "output_type": "stream",
     "text": [
      "Inorder traversal of the given tree\n",
      "[[374 212]\n",
      " [ 54 205]\n",
      " [406 203]\n",
      " [193 202]\n",
      " [355 201]\n",
      " [284 201]\n",
      " [287 200]\n",
      " [565 199]\n",
      " [413 199]\n",
      " [ 61 199]]\n",
      "--- 0.2587306499481201 seconds ---\n"
     ]
    }
   ],
   "source": [
    "import numpy as np\n",
    "start_time = time.time()\n",
    "root = None\n",
    "\n",
    "for n in angka:\n",
    "    root = insert(root, n) \n",
    "    \n",
    "print(\"Inorder traversal of the given tree\")  \n",
    "inorder(root) \n",
    "la = np.array(la)\n",
    "la_sort = la[la[:,1].argsort()[::-1]]\n",
    "print(la_sort[:10])\n",
    "print(\"--- %s seconds ---\" % (time.time() - start_time))"
   ]
  },
  {
   "cell_type": "markdown",
   "metadata": {},
   "source": [
    "### 1. Memory usage (Implementation Using 2 loop)\n",
    "![picture](img/memory-1.PNG)"
   ]
  },
  {
   "cell_type": "markdown",
   "metadata": {},
   "source": [
    "### 2. Memory usage (Implementation Using 1 loop and dictionary)\n",
    "![picture](img/memory-2.PNG)"
   ]
  },
  {
   "cell_type": "markdown",
   "metadata": {},
   "source": [
    "### 3. Memory usage (Implementation Using 1 loop and bst)\n",
    "![picture](img/memory-3.PNG)"
   ]
  },
  {
   "cell_type": "markdown",
   "metadata": {},
   "source": [
    "Based on the memory usage profiling using mprof library in python. We have seen there wasn't any significant difference in the memory consumption. However, the complexity (running time) simulations have shown that the implementation 2 (0.01 s), implementation 3 (0.2 s), and implementation 1 (3.6 s). The implementataion 2 has smaller computation time compare to the others."
   ]
  },
  {
   "cell_type": "code",
   "execution_count": null,
   "metadata": {},
   "outputs": [],
   "source": []
  }
 ],
 "metadata": {
  "kernelspec": {
   "display_name": "Python 3",
   "language": "python",
   "name": "python3"
  },
  "language_info": {
   "codemirror_mode": {
    "name": "ipython",
    "version": 3
   },
   "file_extension": ".py",
   "mimetype": "text/x-python",
   "name": "python",
   "nbconvert_exporter": "python",
   "pygments_lexer": "ipython3",
   "version": "3.7.6"
  }
 },
 "nbformat": 4,
 "nbformat_minor": 4
}
